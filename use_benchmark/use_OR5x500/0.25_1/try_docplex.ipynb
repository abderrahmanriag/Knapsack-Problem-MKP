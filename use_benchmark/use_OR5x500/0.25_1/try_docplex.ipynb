{
 "cells": [
  {
   "cell_type": "markdown",
   "id": "49dbce28",
   "metadata": {},
   "source": [
    "# Solve the Knapsack Problem using DOCPLEX"
   ]
  },
  {
   "cell_type": "code",
   "execution_count": 17,
   "id": "9fccbcd7",
   "metadata": {},
   "outputs": [],
   "source": [
    "import info\n",
    "import pickle\n",
    "from docplex.mp.model import Model"
   ]
  },
  {
   "cell_type": "code",
   "execution_count": 13,
   "id": "2e0bec3a",
   "metadata": {},
   "outputs": [],
   "source": [
    "pickle_in=open(info.sub_path, 'rb')\n",
    "items, k=pickle.load(pickle_in)\n",
    "\n",
    "valeus=[]\n",
    "weights=[]\n",
    "for i in range(len(items)):\n",
    "    valeus.append(items[i].value)\n",
    "    weights.append(items[i].resource)"
   ]
  },
  {
   "cell_type": "code",
   "execution_count": 18,
   "id": "cac1f87b",
   "metadata": {},
   "outputs": [],
   "source": [
    "cap=k.capacities\n",
    "KP=Model(name='KP')\n",
    "N=len(weights)\n",
    "x=KP.binary_var_list(N, name='x')"
   ]
  },
  {
   "cell_type": "code",
   "execution_count": 19,
   "id": "58967fd3",
   "metadata": {},
   "outputs": [
    {
     "name": "stdout",
     "output_type": "stream",
     "text": [
      "cap=61202\n",
      "cap=61807\n",
      "cap=58959\n",
      "cap=62375\n",
      "cap=62163\n"
     ]
    }
   ],
   "source": [
    "KP.solve()\n",
    "KP.print_solution()\n",
    "for j in range(len(cap)):\n",
    "        print(fr'cap={cap[j]}')\n",
    "        KP.add(sum(int(weights[i][j]) * int(x[i]) for i in range(N)) <= int(cap[j]))"
   ]
  },
  {
   "cell_type": "code",
   "execution_count": 20,
   "id": "4b025dde",
   "metadata": {},
   "outputs": [
    {
     "name": "stdout",
     "output_type": "stream",
     "text": [
      "Model: KP\n",
      " - number of variables: 500\n",
      "   - binary=500, integer=0, continuous=0\n",
      " - number of constraints: 0\n",
      "   - linear=0\n",
      " - parameters: defaults\n",
      " - objective: none\n",
      " - problem type is: MILP\n",
      "Optimization is done, Objective function value: 0.00\n",
      "done\n"
     ]
    }
   ],
   "source": [
    "o=sum(int(valeus[i])*int(x[i]) for i in range(N))\n",
    "KP.set_objective('max', o)\n",
    "KP.print_information()\n",
    "KP.solve()\n",
    "KP.print_solution()\n",
    "print('Optimization is done, Objective function value: %.2f'% KP.objective_value)\n",
    "KP.print_solution()\n",
    "print('done')"
   ]
  },
  {
   "cell_type": "code",
   "execution_count": null,
   "id": "3ef6fd2b",
   "metadata": {},
   "outputs": [],
   "source": []
  }
 ],
 "metadata": {
  "kernelspec": {
   "display_name": "Python 3 (ipykernel)",
   "language": "python",
   "name": "python3"
  },
  "language_info": {
   "codemirror_mode": {
    "name": "ipython",
    "version": 3
   },
   "file_extension": ".py",
   "mimetype": "text/x-python",
   "name": "python",
   "nbconvert_exporter": "python",
   "pygments_lexer": "ipython3",
   "version": "3.9.1"
  }
 },
 "nbformat": 4,
 "nbformat_minor": 5
}

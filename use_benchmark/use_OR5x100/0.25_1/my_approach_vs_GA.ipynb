{
 "cells": [
  {
   "cell_type": "markdown",
   "id": "f272e6a5",
   "metadata": {},
   "source": [
    "# Camparison between mixed approach 'GA and LOCAL SEARCH' and GA\n"
   ]
  },
  {
   "cell_type": "markdown",
   "id": "92442dc5",
   "metadata": {},
   "source": [
    "## Load the population from pickle files"
   ]
  },
  {
   "cell_type": "code",
   "execution_count": 2,
   "id": "f595bc2b",
   "metadata": {},
   "outputs": [
    {
     "name": "stdout",
     "output_type": "stream",
     "text": [
      "done\n"
     ]
    }
   ],
   "source": [
    "import info\n",
    "import pickle\n",
    "\n",
    "pickle_in=open(info.sol_path, 'rb')\n",
    "popualation=pickle.load(pickle_in)\n",
    "\n",
    "print('done')"
   ]
  },
  {
   "cell_type": "code",
   "execution_count": null,
   "id": "a3ab0663",
   "metadata": {},
   "outputs": [],
   "source": []
  }
 ],
 "metadata": {
  "kernelspec": {
   "display_name": "Python 3 (ipykernel)",
   "language": "python",
   "name": "python3"
  },
  "language_info": {
   "codemirror_mode": {
    "name": "ipython",
    "version": 3
   },
   "file_extension": ".py",
   "mimetype": "text/x-python",
   "name": "python",
   "nbconvert_exporter": "python",
   "pygments_lexer": "ipython3",
   "version": "3.9.1"
  }
 },
 "nbformat": 4,
 "nbformat_minor": 5
}

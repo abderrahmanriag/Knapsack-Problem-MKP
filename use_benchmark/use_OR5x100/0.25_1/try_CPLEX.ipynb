{
 "cells": [
  {
   "cell_type": "markdown",
   "id": "94b2ad54",
   "metadata": {},
   "source": [
    "# Knapsack Problem\n",
    "\n",
    "This problem is about puting set of items into the knapsack, each item has a value v and weight w"
   ]
  },
  {
   "cell_type": "markdown",
   "id": "e726fc23",
   "metadata": {},
   "source": [
    "* importing the libs"
   ]
  },
  {
   "cell_type": "code",
   "execution_count": 1,
   "id": "630ca22e",
   "metadata": {},
   "outputs": [
    {
     "ename": "ModuleNotFoundError",
     "evalue": "No module named 'docplex'",
     "output_type": "error",
     "traceback": [
      "\u001b[1;31m---------------------------------------------------------------------------\u001b[0m",
      "\u001b[1;31mModuleNotFoundError\u001b[0m                       Traceback (most recent call last)",
      "\u001b[1;32m~\\AppData\\Local\\Temp/ipykernel_4672/2780920239.py\u001b[0m in \u001b[0;36m<module>\u001b[1;34m\u001b[0m\n\u001b[1;32m----> 1\u001b[1;33m \u001b[1;32mfrom\u001b[0m \u001b[0mdocplex\u001b[0m\u001b[1;33m.\u001b[0m\u001b[0mmp\u001b[0m\u001b[1;33m.\u001b[0m\u001b[0mmodel\u001b[0m \u001b[1;32mimport\u001b[0m \u001b[0mModel\u001b[0m\u001b[1;33m\u001b[0m\u001b[1;33m\u001b[0m\u001b[0m\n\u001b[0m\u001b[0;32m      2\u001b[0m \u001b[1;32mimport\u001b[0m \u001b[0mpickle\u001b[0m\u001b[1;33m\u001b[0m\u001b[1;33m\u001b[0m\u001b[0m\n\u001b[0;32m      3\u001b[0m \u001b[1;32mimport\u001b[0m \u001b[0minfo\u001b[0m\u001b[1;33m\u001b[0m\u001b[1;33m\u001b[0m\u001b[0m\n",
      "\u001b[1;31mModuleNotFoundError\u001b[0m: No module named 'docplex'"
     ]
    }
   ],
   "source": [
    "from docplex.mp.model import Model\n",
    "import pickle\n",
    "import info"
   ]
  },
  {
   "cell_type": "markdown",
   "id": "a863f1f5",
   "metadata": {},
   "source": [
    "* Load the data from .dat file"
   ]
  },
  {
   "cell_type": "code",
   "execution_count": 2,
   "id": "56daf651",
   "metadata": {},
   "outputs": [
    {
     "name": "stdout",
     "output_type": "stream",
     "text": [
      "done\n"
     ]
    }
   ],
   "source": [
    "pickle_in=open(info.sub_path, 'rb')\n",
    "items, k=pickle.load(pickle_in)\n",
    "it=[]\n",
    "for i in range(len(items)):\n",
    "    it.append(items[i].resource)\n",
    "\n",
    "KP=Model(name='KP')\n",
    "print('done')"
   ]
  },
  {
   "cell_type": "markdown",
   "id": "4b88bf78",
   "metadata": {},
   "source": [
    "* Prepare the Model"
   ]
  },
  {
   "cell_type": "code",
   "execution_count": 3,
   "id": "fdbcc409",
   "metadata": {},
   "outputs": [
    {
     "name": "stdout",
     "output_type": "stream",
     "text": [
      "100\n"
     ]
    }
   ],
   "source": [
    "x=[]\n",
    "for i in range(len(items)):\n",
    "    x.append(0)\n",
    "    \n"
   ]
  },
  {
   "cell_type": "code",
   "execution_count": null,
   "id": "47310fe0",
   "metadata": {},
   "outputs": [],
   "source": []
  }
 ],
 "metadata": {
  "kernelspec": {
   "display_name": "Python 3 (ipykernel)",
   "language": "python",
   "name": "python3"
  },
  "language_info": {
   "codemirror_mode": {
    "name": "ipython",
    "version": 3
   },
   "file_extension": ".py",
   "mimetype": "text/x-python",
   "name": "python",
   "nbconvert_exporter": "python",
   "pygments_lexer": "ipython3",
   "version": "3.9.7"
  }
 },
 "nbformat": 4,
 "nbformat_minor": 5
}

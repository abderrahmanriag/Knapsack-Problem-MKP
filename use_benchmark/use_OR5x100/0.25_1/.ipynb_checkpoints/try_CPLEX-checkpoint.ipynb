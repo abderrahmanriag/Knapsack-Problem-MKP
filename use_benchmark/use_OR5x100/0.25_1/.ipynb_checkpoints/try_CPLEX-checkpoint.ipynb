{
 "cells": [
  {
   "cell_type": "markdown",
   "id": "94b2ad54",
   "metadata": {},
   "source": [
    "# Knapsack Problem\n",
    "\n",
    "This problem is about puting set of items into the knapsack, each item has a value v and weight w"
   ]
  },
  {
   "cell_type": "markdown",
   "id": "e726fc23",
   "metadata": {},
   "source": [
    "* importing the libs"
   ]
  },
  {
   "cell_type": "code",
   "execution_count": 1,
   "id": "630ca22e",
   "metadata": {},
   "outputs": [],
   "source": [
    "from docplex.mp.model import Model\n",
    "import pickle\n",
    "import info"
   ]
  },
  {
   "cell_type": "markdown",
   "id": "a863f1f5",
   "metadata": {},
   "source": [
    "* Load the data from .dat file"
   ]
  },
  {
   "cell_type": "code",
   "execution_count": 2,
   "id": "56daf651",
   "metadata": {},
   "outputs": [
    {
     "name": "stdout",
     "output_type": "stream",
     "text": [
      "done\n"
     ]
    }
   ],
   "source": [
    "pickle_in=open(info.sub_path, 'rb')\n",
    "items, k=pickle.load(pickle_in)\n",
    "it=[]\n",
    "for i in range(len(items)):\n",
    "    it.append(items[i].resource)\n",
    "\n",
    "KP=Model(name='KP')\n",
    "print('done')"
   ]
  },
  {
   "cell_type": "markdown",
   "id": "4b88bf78",
   "metadata": {},
   "source": [
    "* Prepare the Model"
   ]
  },
  {
   "cell_type": "code",
   "execution_count": 3,
   "id": "fdbcc409",
   "metadata": {},
   "outputs": [
    {
     "name": "stdout",
     "output_type": "stream",
     "text": [
      "100\n"
     ]
    }
   ],
   "source": [
    "x=[]\n",
    "for i in range(len(items)):\n",
    "    x.append(0)\n",
    "    \n"
   ]
  },
  {
   "cell_type": "code",
   "execution_count": null,
   "id": "47310fe0",
   "metadata": {},
   "outputs": [],
   "source": []
  }
 ],
 "metadata": {
  "kernelspec": {
   "display_name": "Python 3 (ipykernel)",
   "language": "python",
   "name": "python3"
  },
  "language_info": {
   "codemirror_mode": {
    "name": "ipython",
    "version": 3
   },
   "file_extension": ".py",
   "mimetype": "text/x-python",
   "name": "python",
   "nbconvert_exporter": "python",
   "pygments_lexer": "ipython3",
   "version": "3.9.7"
  }
 },
 "nbformat": 4,
 "nbformat_minor": 5
}
